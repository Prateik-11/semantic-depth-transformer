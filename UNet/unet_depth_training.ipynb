{
 "cells": [
  {
   "cell_type": "code",
   "execution_count": 1,
   "metadata": {},
   "outputs": [],
   "source": [
    "import torch\n",
    "import torchvision\n",
    "import os\n",
    "from unet import UNet\n",
    "from data import Dataset\n",
    "import cv2\n",
    "from PIL import Image\n",
    "from torchvision.transforms import v2\n",
    "import wandb\n",
    "\n",
    "LR = 0.001\n",
    "EPOCHS = 10\n",
    "BATCH_SIZE = 32"
   ]
  },
  {
   "cell_type": "code",
   "execution_count": 2,
   "metadata": {},
   "outputs": [],
   "source": [
    "model = UNet(\n",
    "    dim=64,                 # dimension that will get multiplied by dim_mults\n",
    "    with_time_emb=False     # use time embedding (only relevant for diffusion, not for i2i)\n",
    ")"
   ]
  },
  {
   "cell_type": "code",
   "execution_count": 3,
   "metadata": {},
   "outputs": [],
   "source": [
    "depth = r'D:\\scalable_analytics_institute\\semantic_depth_transformer\\data\\virtual_kitti\\vkitti_2.0.3_depth'\n",
    "rgb = r'D:\\scalable_analytics_institute\\semantic_depth_transformer\\data\\virtual_kitti\\vkitti_2.0.3_rgb'\n",
    "semantic = r'D:\\scalable_analytics_institute\\semantic_depth_transformer\\data\\virtual_kitti\\vkitti_2.0.3_classSegmentation'\n",
    "\n",
    "rgb_depth_dataset = Dataset(rgb, depth)\n",
    "dataloader = torch.utils.data.DataLoader(rgb_depth_dataset, batch_size=BATCH_SIZE) "
   ]
  },
  {
   "cell_type": "code",
   "execution_count": 4,
   "metadata": {},
   "outputs": [],
   "source": [
    "# move the hyperparameters to their own cell"
   ]
  },
  {
   "cell_type": "code",
   "execution_count": null,
   "metadata": {},
   "outputs": [],
   "source": [
    "def save(model, optimizer, path):\n",
    "    torch.save({\n",
    "        'model': model.state_dict(),\n",
    "        'optimizer': optimizer.state_dict()\n",
    "    }, path + 'model.pt')\n",
    "\n",
    "def load(model, optimizer, path):\n",
    "    checkpoint = torch.load(path)\n",
    "    model.load_state_dict(checkpoint['model'])\n",
    "    optimizer.load_state_dict(checkpoint['optimizer'])\n",
    "    return model, optimizer\n"
   ]
  },
  {
   "cell_type": "code",
   "execution_count": 5,
   "metadata": {},
   "outputs": [],
   "source": [
    "loss_fn = torch.nn.L1Loss()\n",
    "optimizer = torch.optim.AdamW(model.parameters(), lr = LR)\n",
    "SAVE_EVERY = 5  \n",
    "SAVE_PATH = './checkpoints/'"
   ]
  },
  {
   "cell_type": "code",
   "execution_count": null,
   "metadata": {},
   "outputs": [],
   "source": [
    "# training\n",
    "device = 'cuda'\n",
    "model = model.to(device)\n",
    "model.train()\n",
    "\n",
    "wandb.init(project='unet_depth', name='training_run')\n",
    "\n",
    "for epoch in range(1, EPOCHS+1):\n",
    "    for i, (rgb, depth) in enumerate(dataloader):\n",
    "        rgb, depth = rgb.to(device), depth.to(device)\n",
    "        pred_depth = model(rgb.float())\n",
    "        loss = loss_fn(depth, pred_depth)\n",
    "        loss.backward()\n",
    "        optimizer.step()\n",
    "        optimizer.zero_grad()\n",
    "    if epoch % SAVE_EVERY == 0:\n",
    "        save(model, optimizer, SAVE_PATH)\n",
    "\n",
    "wandb.finish()\n"
   ]
  },
  {
   "cell_type": "code",
   "execution_count": null,
   "metadata": {},
   "outputs": [],
   "source": [
    "# validation\n",
    "model.eval()\n",
    "model.to(device)\n",
    "\n",
    "val_dataloader = torch.utils.data.DataLoader(\n",
    "    Dataset(), # using validation data\n",
    "    batch_size = BATCH_SIZE,\n",
    "    shuffle = True\n",
    ")\n",
    "\n",
    "wandb.init(project='unet_depth', name='validation_run')\n",
    "\n",
    "with torch.no_grad():\n",
    "    for index, batch in enumerate(dataloader):\n",
    "        video, target = batch\n",
    "        video, target = video.to(device), target.to(device)\n",
    "        prediction = model(video)\n",
    "        loss = loss_fn(prediction, target)\n",
    "        wandb.log({\n",
    "            'loss': loss.item()\n",
    "        }, commit = True)\n",
    "\n",
    "wandb.finish()"
   ]
  }
 ],
 "metadata": {
  "kernelspec": {
   "display_name": "ml",
   "language": "python",
   "name": "python3"
  },
  "language_info": {
   "codemirror_mode": {
    "name": "ipython",
    "version": 3
   },
   "file_extension": ".py",
   "mimetype": "text/x-python",
   "name": "python",
   "nbconvert_exporter": "python",
   "pygments_lexer": "ipython3",
   "version": "3.10.13"
  }
 },
 "nbformat": 4,
 "nbformat_minor": 2
}
