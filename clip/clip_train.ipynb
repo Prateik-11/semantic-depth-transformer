{
 "cells": [
  {
   "cell_type": "code",
   "execution_count": 4,
   "metadata": {},
   "outputs": [
    {
     "name": "stderr",
     "output_type": "stream",
     "text": [
      "`text_config_dict` is provided which will be used to initialize `CLIPTextConfig`. The value `text_config[\"id2label\"]` will be overriden.\n",
      "`text_config_dict` is provided which will be used to initialize `CLIPTextConfig`. The value `text_config[\"bos_token_id\"]` will be overriden.\n",
      "`text_config_dict` is provided which will be used to initialize `CLIPTextConfig`. The value `text_config[\"eos_token_id\"]` will be overriden.\n"
     ]
    },
    {
     "name": "stdout",
     "output_type": "stream",
     "text": [
      "Similarity score: 0.6449080109596252\n"
     ]
    }
   ],
   "source": [
    "import torch\n",
    "from transformers import CLIPImageProcessor, CLIPModel, CLIPTokenizer\n",
    "from PIL import Image\n",
    "\n",
    "device = \"cuda:2\"\n",
    "\n",
    "# Load the CLIP model\n",
    "model_ID = \"openai/clip-vit-large-patch14\"\n",
    "model = CLIPModel.from_pretrained(model_ID).to(device)\n",
    "preprocess = CLIPImageProcessor.from_pretrained(model_ID)\n",
    "\n",
    "# Define a function to load an image and preprocess it for CLIP\n",
    "def load_and_preprocess_image(image_path):\n",
    "    # Load the image from the specified path\n",
    "    image = Image.open(image_path)\n",
    "    # Apply the CLIP preprocessing to the image\n",
    "    image = preprocess(image, return_tensors=\"pt\")\n",
    "    # Return the preprocessed image\n",
    "    return image\n",
    "\n",
    "# Load the two images and preprocess them for CLIP\n",
    "image_a = load_and_preprocess_image('./test2.png')[\"pixel_values\"].to(device)\n",
    "image_b = load_and_preprocess_image('./test1.jpg')[\"pixel_values\"].to(device)\n",
    "\n",
    "# Calculate the embeddings for the images using the CLIP model\n",
    "# with torch.no_grad():\n",
    "embedding_a = model.get_image_features(image_a)\n",
    "embedding_b = model.get_image_features(image_b)\n",
    "\n",
    "# Calculate the cosine similarity between the embeddings\n",
    "similarity_score = torch.nn.functional.cosine_similarity(embedding_a, embedding_b)\n",
    "\n",
    "# Print the similarity score\n",
    "print('Similarity score:', similarity_score.item())"
   ]
  },
  {
   "cell_type": "code",
   "execution_count": null,
   "metadata": {},
   "outputs": [],
   "source": [
    "optimizer = torch.optim.AdamW(model.parameters())\n",
    "\n",
    "# Load the two images and preprocess them for CLIP\n",
    "image_a = load_and_preprocess_image('./test2.png')[\"pixel_values\"].to(device)\n",
    "image_b = load_and_preprocess_image('./test1.jpg')[\"pixel_values\"].to(device)\n",
    "\n",
    "# Calculate the embeddings for the images using the CLIP model\n",
    "# with torch.no_grad():\n",
    "embedding_a = model.get_image_features(image_a)\n",
    "embedding_b = model.get_image_features(image_b)\n",
    "\n",
    "# Calculate the cosine similarity between the embeddings\n",
    "similarity_score = torch.nn.functional.cosine_similarity(embedding_a, embedding_b)\n",
    "similarity_score.backward()\n",
    "optimizer.step()\n",
    "optimizer.zero_grad()"
   ]
  },
  {
   "cell_type": "code",
   "execution_count": 13,
   "metadata": {},
   "outputs": [
    {
     "name": "stdout",
     "output_type": "stream",
     "text": [
      "torch.Size([1, 257, 1024])\n",
      "torch.Size([1, 1024])\n"
     ]
    }
   ],
   "source": [
    "print(model.vision_model(image_a)['last_hidden_state'].shape)\n",
    "print(model.vision_model(image_a)['pooler_output'].shape)"
   ]
  },
  {
   "cell_type": "code",
   "execution_count": 16,
   "metadata": {},
   "outputs": [
    {
     "data": {
      "text/plain": [
       "torch.Size([1, 768])"
      ]
     },
     "execution_count": 16,
     "metadata": {},
     "output_type": "execute_result"
    }
   ],
   "source": [
    "model.visual_projection(model.vision_model(image_a)['pooler_output']).shape"
   ]
  },
  {
   "cell_type": "code",
   "execution_count": 5,
   "metadata": {},
   "outputs": [],
   "source": [
    "embedding_a = model.get_image_features(image_a)"
   ]
  }
 ],
 "metadata": {
  "kernelspec": {
   "display_name": "ml",
   "language": "python",
   "name": "python3"
  },
  "language_info": {
   "codemirror_mode": {
    "name": "ipython",
    "version": 3
   },
   "file_extension": ".py",
   "mimetype": "text/x-python",
   "name": "python",
   "nbconvert_exporter": "python",
   "pygments_lexer": "ipython3",
   "version": "3.11.5"
  }
 },
 "nbformat": 4,
 "nbformat_minor": 2
}
